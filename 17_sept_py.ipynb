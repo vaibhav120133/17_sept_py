{
 "cells": [
  {
   "cell_type": "code",
   "execution_count": 1,
   "id": "08e5a3b9-001c-4e20-b078-0a6f44828182",
   "metadata": {},
   "outputs": [
    {
     "name": "stdout",
     "output_type": "stream",
     "text": [
      "1\n",
      "2\n",
      "3\n",
      "4\n",
      "5\n",
      "6\n",
      "7\n",
      "8\n",
      "9\n",
      "10\n"
     ]
    }
   ],
   "source": [
    "#1\n",
    "for i in range(1, 11):\n",
    "  print(i)"
   ]
  },
  {
   "cell_type": "raw",
   "id": "272a1c92-2f4b-4ad0-ba68-53883c4896b4",
   "metadata": {},
   "source": [
    "#2\n",
    "The main difference between for loops and while loops is that for loops are used to iterate over a sequence of elements, while while loops are used to execute a block of code while a condition is true."
   ]
  },
  {
   "cell_type": "code",
   "execution_count": 2,
   "id": "41670e79-efed-4e96-a558-b51fb8d8aa37",
   "metadata": {},
   "outputs": [
    {
     "name": "stdout",
     "output_type": "stream",
     "text": [
      "5050\n"
     ]
    }
   ],
   "source": [
    "#3\n",
    "sum = 0\n",
    "for i in range(1, 101):\n",
    "  sum += i\n",
    "\n",
    "print(sum)\n"
   ]
  },
  {
   "cell_type": "raw",
   "id": "d05a2114-4794-43f9-a791-6a7e08e4df3e",
   "metadata": {},
   "source": [
    "#4\n",
    "for element in list:\n",
    "  # block of code\n",
    "The element variable will be assigned each element in the list, one at a time.\n",
    "The block of code will be executed for each element in the list."
   ]
  },
  {
   "cell_type": "code",
   "execution_count": 3,
   "id": "f711c438-b142-4567-b89d-43e7e5b50d09",
   "metadata": {},
   "outputs": [
    {
     "name": "stdout",
     "output_type": "stream",
     "text": [
      "120\n"
     ]
    }
   ],
   "source": [
    "#5\n",
    "list1 = [1, 2, 3, 4, 5]\n",
    "\n",
    "product = 1\n",
    "for element in list1:\n",
    "  product *= element\n",
    "\n",
    "print(product)"
   ]
  },
  {
   "cell_type": "code",
   "execution_count": 4,
   "id": "fc57624d-ae97-4d2a-b016-b87515284cd7",
   "metadata": {},
   "outputs": [
    {
     "name": "stdout",
     "output_type": "stream",
     "text": [
      "2\n",
      "4\n",
      "6\n",
      "8\n",
      "10\n",
      "12\n",
      "14\n",
      "16\n",
      "18\n",
      "20\n"
     ]
    }
   ],
   "source": [
    "#6\n",
    "for i in range(2, 21, 2):\n",
    "    print(i)\n"
   ]
  },
  {
   "cell_type": "code",
   "execution_count": 5,
   "id": "57048079-cc09-4aa3-8933-e37d613f4990",
   "metadata": {},
   "outputs": [
    {
     "name": "stdout",
     "output_type": "stream",
     "text": [
      "120\n"
     ]
    }
   ],
   "source": [
    "#7\n",
    "n = 5\n",
    "\n",
    "factorial = 1\n",
    "for i in range(1, n + 1):\n",
    "  factorial *= i\n",
    "\n",
    "print(factorial)"
   ]
  },
  {
   "cell_type": "code",
   "execution_count": 6,
   "id": "2fb945b6-90b3-4765-9714-6ed81efb97c7",
   "metadata": {},
   "outputs": [
    {
     "name": "stdout",
     "output_type": "stream",
     "text": [
      "H\n",
      "e\n",
      "l\n",
      "l\n",
      "o\n",
      ",\n",
      " \n",
      "w\n",
      "o\n",
      "r\n",
      "l\n",
      "d\n",
      "!\n"
     ]
    }
   ],
   "source": [
    "#8\n",
    "string = \"Hello, world!\"\n",
    "\n",
    "for i in range(len(string)):\n",
    "  print(string[i])\n"
   ]
  },
  {
   "cell_type": "code",
   "execution_count": 7,
   "id": "f62f0db1-7a8f-442d-a21c-7e43354e4142",
   "metadata": {},
   "outputs": [
    {
     "name": "stdout",
     "output_type": "stream",
     "text": [
      "5\n"
     ]
    }
   ],
   "source": [
    "#9\n",
    "list1 = [1, 2, 3, 4, 5]\n",
    "largest_number = list1[0]\n",
    "\n",
    "for number in list1:\n",
    "  if number > largest_number:\n",
    "    largest_number = number\n",
    "\n",
    "print(largest_number)\n"
   ]
  },
  {
   "cell_type": "code",
   "execution_count": 18,
   "id": "739e5009-bb9d-42fa-b4c7-5dbcc6b27401",
   "metadata": {},
   "outputs": [
    {
     "name": "stdin",
     "output_type": "stream",
     "text": [
      "Enter the upper limit of the Fibonacci sequence to print:  10\n"
     ]
    },
    {
     "name": "stdout",
     "output_type": "stream",
     "text": [
      "The Fibonacci sequence up to 10 is:\n",
      "0\n",
      "1\n",
      "1\n",
      "2\n",
      "3\n",
      "5\n",
      "8\n",
      "13\n",
      "21\n",
      "34\n"
     ]
    }
   ],
   "source": [
    "#10\n",
    "limit = int(input(\"Enter the upper limit of the Fibonacci sequence to print: \"))\n",
    "print(\"The Fibonacci sequence up to {} is:\".format(limit))\n",
    "\n",
    "a = 0\n",
    "b = 1\n",
    "\n",
    "for i in range(limit):\n",
    "    print(a)\n",
    "    a, b = b, a + b\n"
   ]
  },
  {
   "cell_type": "code",
   "execution_count": 19,
   "id": "ae43874e-10d7-4467-bf3e-0d5ad3b8e6df",
   "metadata": {},
   "outputs": [
    {
     "name": "stdin",
     "output_type": "stream",
     "text": [
      "Enter a string:  grthtfhtghj\n"
     ]
    },
    {
     "name": "stdout",
     "output_type": "stream",
     "text": [
      "The number of vowels in the string 'grthtfhtghj' is 0.\n"
     ]
    }
   ],
   "source": [
    "#11\n",
    "string = input(\"Enter a string: \")\n",
    "vowels = \"aeiou\"\n",
    "vowel_count = 0\n",
    "\n",
    "for character in string:\n",
    "  if character in vowels:\n",
    "    vowel_count += 1\n",
    "\n",
    "print(f\"The number of vowels in the string '{string}' is {vowel_count}.\")\n"
   ]
  },
  {
   "cell_type": "code",
   "execution_count": 20,
   "id": "72616450-3d25-485d-bb61-7f8e4fd662f7",
   "metadata": {},
   "outputs": [
    {
     "name": "stdin",
     "output_type": "stream",
     "text": [
      "Enter a number to generate a multiplication table for:  55\n"
     ]
    },
    {
     "name": "stdout",
     "output_type": "stream",
     "text": [
      "55 x 1 = 55\n",
      "55 x 2 = 110\n",
      "55 x 3 = 165\n",
      "55 x 4 = 220\n",
      "55 x 5 = 275\n",
      "55 x 6 = 330\n",
      "55 x 7 = 385\n",
      "55 x 8 = 440\n",
      "55 x 9 = 495\n",
      "55 x 10 = 550\n"
     ]
    }
   ],
   "source": [
    "#12\n",
    "number = int(input(\"Enter a number to generate a multiplication table for: \"))\n",
    "\n",
    "for i in range(1, 11):\n",
    "  print(f\"{number} x {i} = {number * i}\")\n"
   ]
  },
  {
   "cell_type": "code",
   "execution_count": 21,
   "id": "ae855940-cbdb-405f-aee7-0af236a42486",
   "metadata": {},
   "outputs": [
    {
     "name": "stdout",
     "output_type": "stream",
     "text": [
      "[5, 4, 3, 2, 1]\n"
     ]
    }
   ],
   "source": [
    "#13\n",
    "list1 = [1, 2, 3, 4, 5]\n",
    "reversed_list = []\n",
    "\n",
    "for i in range(len(list1) - 1, -1, -1):\n",
    "  reversed_list.append(list1[i])\n",
    "\n",
    "print(reversed_list)\n"
   ]
  },
  {
   "cell_type": "code",
   "execution_count": 22,
   "id": "8c7653dd-7003-4644-89ed-496273df7352",
   "metadata": {},
   "outputs": [
    {
     "name": "stdout",
     "output_type": "stream",
     "text": [
      "[3, 4, 5]\n"
     ]
    }
   ],
   "source": [
    "#14\n",
    "list1 = [1, 2, 3, 4, 5]\n",
    "list2 = [3, 4, 5, 6, 7]\n",
    "common_elements = []\n",
    "\n",
    "for element in list1:\n",
    "  if element in list2:\n",
    "    common_elements.append(element)\n",
    "\n",
    "print(common_elements)\n"
   ]
  },
  {
   "cell_type": "code",
   "execution_count": 23,
   "id": "12a7adee-6d80-437c-9518-a781309a6ace",
   "metadata": {},
   "outputs": [
    {
     "name": "stdout",
     "output_type": "stream",
     "text": [
      "name: Alice\n",
      "age: 25\n",
      "occupation: Software Engineer\n"
     ]
    }
   ],
   "source": [
    "#15\n",
    "my_dictionary = {\n",
    "    \"name\": \"Alice\",\n",
    "    \"age\": 25,\n",
    "    \"occupation\": \"Software Engineer\"\n",
    "}\n",
    "\n",
    "# Iterate over the key-value pairs in the dictionary.\n",
    "for key, value in my_dictionary.items():\n",
    "\n",
    "    # Print the key and value to the console.\n",
    "    print(f\"{key}: {value}\")\n"
   ]
  },
  {
   "cell_type": "code",
   "execution_count": 24,
   "id": "d1bedac8-dc8c-4f31-9043-3b88071f9025",
   "metadata": {},
   "outputs": [
    {
     "name": "stdin",
     "output_type": "stream",
     "text": [
      "Enter the first number:  88\n",
      "Enter the second number:  9\n"
     ]
    },
    {
     "name": "stdout",
     "output_type": "stream",
     "text": [
      "The GCD of 88 and 9 is 1.\n"
     ]
    }
   ],
   "source": [
    "#16\n",
    "num1 = int(input(\"Enter the first number: \"))\n",
    "num2 = int(input(\"Enter the second number: \"))\n",
    "\n",
    "gcd = min(num1, num2)\n",
    "\n",
    "for i in range(1, gcd + 1):\n",
    "  if num1 % i == 0 and num2 % i == 0:\n",
    "    gcd = i\n",
    "\n",
    "print(f\"The GCD of {num1} and {num2} is {gcd}.\")\n"
   ]
  },
  {
   "cell_type": "code",
   "execution_count": 25,
   "id": "b23e4dfe-17b0-4082-b086-2eae5d7a6299",
   "metadata": {},
   "outputs": [
    {
     "name": "stdin",
     "output_type": "stream",
     "text": [
      "Enter a string:  gdgrgrrte\n"
     ]
    },
    {
     "name": "stdout",
     "output_type": "stream",
     "text": [
      "gdgrgrrte is not a palindrome.\n"
     ]
    }
   ],
   "source": [
    "#17\n",
    "string = input(\"Enter a string: \")\n",
    "\n",
    "left_index = 0\n",
    "right_index = len(string) - 1\n",
    "\n",
    "is_palindrome = True\n",
    "\n",
    "while left_index < right_index:\n",
    "\n",
    "  if string[left_index] != string[right_index]:\n",
    "    is_palindrome = False\n",
    "    break\n",
    "\n",
    "  left_index += 1\n",
    "  right_index -= 1\n",
    "\n",
    "if is_palindrome:\n",
    "  print(f\"{string} is a palindrome.\")\n",
    "else:\n",
    "  print(f\"{string} is not a palindrome.\")\n"
   ]
  },
  {
   "cell_type": "code",
   "execution_count": 26,
   "id": "e18f34be-fd2b-49b1-9265-ad7f01c7be37",
   "metadata": {},
   "outputs": [
    {
     "name": "stdout",
     "output_type": "stream",
     "text": [
      "[1, 2, 3, 4, 5]\n"
     ]
    }
   ],
   "source": [
    "#18\n",
    "list1 = [1, 2, 3, 4, 5, 2, 3, 1]\n",
    "\n",
    "# Create a new empty list to store the unique elements.\n",
    "unique_list = []\n",
    "\n",
    "# Iterate over the original list.\n",
    "for element in list1:\n",
    "\n",
    "  # If the element is not already in the unique list, add it to the unique list.\n",
    "  if element not in unique_list:\n",
    "    unique_list.append(element)\n",
    "\n",
    "# Replace the original list with the unique list.\n",
    "list1 = unique_list\n",
    "\n",
    "# Print the unique list to the console.\n",
    "print(list1)\n",
    "\n"
   ]
  },
  {
   "cell_type": "code",
   "execution_count": 27,
   "id": "448b6d2a-afec-418c-83fd-7a9eb20ebcb1",
   "metadata": {},
   "outputs": [
    {
     "name": "stdin",
     "output_type": "stream",
     "text": [
      "Enter a sentence:  rrg rerther erthert g gter vaibhav is \n"
     ]
    },
    {
     "name": "stdout",
     "output_type": "stream",
     "text": [
      "The number of words in the sentence 'rrg rerther erthert g gter vaibhav is ' is 7.\n"
     ]
    }
   ],
   "source": [
    "#19\n",
    "sentence = input(\"Enter a sentence: \")\n",
    "\n",
    "# Initialize the word count to 0.\n",
    "word_count = 0\n",
    "\n",
    "# Iterate over the sentence, splitting it into words.\n",
    "for word in sentence.split():\n",
    "\n",
    "  # Increment the word count.\n",
    "  word_count += 1\n",
    "\n",
    "# Print the word count to the console.\n",
    "print(f\"The number of words in the sentence '{sentence}' is {word_count}.\")\n"
   ]
  },
  {
   "cell_type": "code",
   "execution_count": 28,
   "id": "9c03d3cd-0320-4c34-9ae7-5607bd2cc66e",
   "metadata": {},
   "outputs": [
    {
     "name": "stdout",
     "output_type": "stream",
     "text": [
      "The sum of all odd numbers from 1 to 50 is 625.\n"
     ]
    }
   ],
   "source": [
    "#20\n",
    "# Initialize the sum to 0.\n",
    "sum = 0\n",
    "\n",
    "# Iterate over the range from 1 to 50 (inclusive).\n",
    "for i in range(1, 51):\n",
    "\n",
    "  # Check if the current number is odd.\n",
    "  if i % 2 != 0:\n",
    "\n",
    "    # Add the current number to the sum.\n",
    "    sum += i\n",
    "\n",
    "# Print the sum of the odd numbers to the console.\n",
    "print(f\"The sum of all odd numbers from 1 to 50 is {sum}.\")\n"
   ]
  },
  {
   "cell_type": "code",
   "execution_count": 29,
   "id": "db6ffcdd-83bc-49e7-8e98-4876d4f09662",
   "metadata": {},
   "outputs": [
    {
     "name": "stdin",
     "output_type": "stream",
     "text": [
      "Enter a year to check:  2024\n"
     ]
    },
    {
     "name": "stdout",
     "output_type": "stream",
     "text": [
      "2024 is a leap year.\n"
     ]
    }
   ],
   "source": [
    "#21\n",
    "year = int(input(\"Enter a year to check: \"))\n",
    "\n",
    "# Check if the year is divisible by 100. If it is, it is not a leap year unless it is also divisible by 400.\n",
    "if year % 100 == 0 and year % 400 != 0:\n",
    "  print(f\"{year} is not a leap year.\")\n",
    "  exit()\n",
    "\n",
    "# Otherwise, the year is a leap year if it is divisible by 4.\n",
    "elif year % 4 == 0:\n",
    "  print(f\"{year} is a leap year.\")\n",
    "else:\n",
    "  print(f\"{year} is not a leap year.\")\n"
   ]
  },
  {
   "cell_type": "code",
   "execution_count": 40,
   "id": "64c830dc-19b5-4a86-ac7d-ab01f97762a5",
   "metadata": {},
   "outputs": [
    {
     "name": "stdin",
     "output_type": "stream",
     "text": [
      "Enter a number:  10000\n"
     ]
    },
    {
     "name": "stdout",
     "output_type": "stream",
     "text": [
      "The square root of 10000.0 is 100.09999999999859.\n"
     ]
    }
   ],
   "source": [
    "#22\n",
    "# Get the number to calculate the square root of from the user.\n",
    "number = float(input(\"Enter a number: \"))\n",
    "\n",
    "# Initialize the guess to 1.\n",
    "guess = 1.0\n",
    "\n",
    "# Iterate until the guess is close enough to the square root of the number.\n",
    "while guess * guess < number:\n",
    "  guess += 0.1\n",
    "\n",
    "# Print the square root of the number to the console.\n",
    "print(f\"The square root of {number} is {guess}.\")\n"
   ]
  },
  {
   "cell_type": "code",
   "execution_count": 41,
   "id": "065597de-e2f1-45a4-b3c6-696966d522a9",
   "metadata": {},
   "outputs": [
    {
     "name": "stdin",
     "output_type": "stream",
     "text": [
      "Enter the first number:  45\n",
      "Enter the second number:  9\n"
     ]
    },
    {
     "name": "stdout",
     "output_type": "stream",
     "text": [
      "The LCM of 45 and 9 is 45.\n"
     ]
    }
   ],
   "source": [
    "#23\n",
    "number1 = int(input(\"Enter the first number: \"))\n",
    "number2 = int(input(\"Enter the second number: \"))\n",
    "\n",
    "# Initialize the LCM to the larger of the two numbers.\n",
    "lcm = max(number1, number2)\n",
    "\n",
    "# Iterate until the LCM is divisible by both numbers.\n",
    "while lcm % number1 != 0 or lcm % number2 != 0:\n",
    "  lcm += 1\n",
    "\n",
    "# Print the LCM to the console.\n",
    "print(f\"The LCM of {number1} and {number2} is {lcm}.\")\n"
   ]
  },
  {
   "cell_type": "code",
   "execution_count": 42,
   "id": "9d8aef3d-cefd-4e46-a613-70e0eb9edf7d",
   "metadata": {},
   "outputs": [
    {
     "name": "stdin",
     "output_type": "stream",
     "text": [
      "Enter a number:  0\n"
     ]
    },
    {
     "name": "stdout",
     "output_type": "stream",
     "text": [
      "The number is zero.\n"
     ]
    }
   ],
   "source": [
    "#1\n",
    "number = int(input(\"Enter a number: \"))\n",
    "\n",
    "if number > 0:\n",
    "  print(\"The number is positive.\")\n",
    "elif number < 0:\n",
    "  print(\"The number is negative.\")\n",
    "else:\n",
    "  print(\"The number is zero.\")\n"
   ]
  },
  {
   "cell_type": "code",
   "execution_count": 43,
   "id": "0b7de878-6174-4d8c-a7bc-9600832766a9",
   "metadata": {},
   "outputs": [
    {
     "name": "stdin",
     "output_type": "stream",
     "text": [
      "Enter a number:  55\n"
     ]
    },
    {
     "name": "stdout",
     "output_type": "stream",
     "text": [
      "The number is odd.\n"
     ]
    }
   ],
   "source": [
    "#2\n",
    "number = int(input(\"Enter a number: \"))\n",
    "\n",
    "if number % 2 == 0:\n",
    "  print(\"The number is even.\")\n",
    "else:\n",
    "  print(\"The number is odd.\")\n"
   ]
  },
  {
   "cell_type": "code",
   "execution_count": 44,
   "id": "6e8d8386-267d-4d15-b0b4-4af19f041bd7",
   "metadata": {},
   "outputs": [
    {
     "name": "stdin",
     "output_type": "stream",
     "text": [
      "Enter a number:  55\n"
     ]
    },
    {
     "name": "stdout",
     "output_type": "stream",
     "text": [
      "The number is positive, but not even.\n"
     ]
    }
   ],
   "source": [
    "#3\n",
    "number = int(input(\"Enter a number: \"))\n",
    "\n",
    "if number > 0:\n",
    "  if number % 2 == 0:\n",
    "    print(\"The number is both even and positive.\")\n",
    "  else:\n",
    "    print(\"The number is positive, but not even.\")\n",
    "else:\n",
    "  print(\"The number is negative.\")\n"
   ]
  },
  {
   "cell_type": "code",
   "execution_count": 45,
   "id": "6763e388-f75f-42ac-b498-8fbfe018e963",
   "metadata": {},
   "outputs": [
    {
     "name": "stdin",
     "output_type": "stream",
     "text": [
      "Enter the first number:  56\n",
      "Enter the second number:  86\n",
      "Enter the third number:  55\n"
     ]
    },
    {
     "name": "stdout",
     "output_type": "stream",
     "text": [
      "The largest number is 86.\n"
     ]
    }
   ],
   "source": [
    "#4\n",
    "number1 = int(input(\"Enter the first number: \"))\n",
    "number2 = int(input(\"Enter the second number: \"))\n",
    "number3 = int(input(\"Enter the third number: \"))\n",
    "\n",
    "largest_number = number1\n",
    "\n",
    "if number2 > largest_number:\n",
    "  largest_number = number2\n",
    "if number3 > largest_number:\n",
    "  largest_number = number3\n",
    "\n",
    "print(f\"The largest number is {largest_number}.\")\n"
   ]
  },
  {
   "cell_type": "code",
   "execution_count": 46,
   "id": "d7dcbb44-9f3c-4e10-8897-041be3f20083",
   "metadata": {},
   "outputs": [
    {
     "name": "stdin",
     "output_type": "stream",
     "text": [
      "Enter a number:  44\n"
     ]
    },
    {
     "name": "stdout",
     "output_type": "stream",
     "text": [
      "The absolute value of 44 is 44.\n"
     ]
    }
   ],
   "source": [
    "#5\n",
    "number = int(input(\"Enter a number: \"))\n",
    "\n",
    "absolute_value = number\n",
    "\n",
    "if number < 0:\n",
    "  absolute_value = -number\n",
    "\n",
    "print(f\"The absolute value of {number} is {absolute_value}.\")\n"
   ]
  },
  {
   "cell_type": "code",
   "execution_count": 47,
   "id": "77784b7e-99e5-4cb3-9da3-a9b904555a66",
   "metadata": {},
   "outputs": [
    {
     "name": "stdin",
     "output_type": "stream",
     "text": [
      "Enter a character:  ffeatergrg\n"
     ]
    },
    {
     "name": "stdout",
     "output_type": "stream",
     "text": [
      "The character is a consonant.\n"
     ]
    }
   ],
   "source": [
    "#6\n",
    "character = input(\"Enter a character: \")\n",
    "\n",
    "if character in \"aeiouAEIOU\":\n",
    "  print(\"The character is a vowel.\")\n",
    "else:\n",
    "  print(\"The character is a consonant.\")\n"
   ]
  },
  {
   "cell_type": "code",
   "execution_count": 48,
   "id": "50a9bae5-f29f-456f-bc4a-26e55a2781a3",
   "metadata": {},
   "outputs": [
    {
     "name": "stdin",
     "output_type": "stream",
     "text": [
      "Enter your age:  55\n"
     ]
    },
    {
     "name": "stdout",
     "output_type": "stream",
     "text": [
      "You are eligible to vote.\n"
     ]
    }
   ],
   "source": [
    "#7\n",
    "age = int(input(\"Enter your age: \"))\n",
    "\n",
    "if age >= 18:\n",
    "  print(\"You are eligible to vote.\")\n",
    "else:\n",
    "  print(\"You are not eligible to vote.\")\n"
   ]
  },
  {
   "cell_type": "code",
   "execution_count": 49,
   "id": "e528b5e1-4bb3-4a7a-9ded-83ea978f2967",
   "metadata": {},
   "outputs": [
    {
     "name": "stdin",
     "output_type": "stream",
     "text": [
      "Enter the purchase amount:  55555\n"
     ]
    },
    {
     "name": "stdout",
     "output_type": "stream",
     "text": [
      "The discount amount is 5555.5.\n"
     ]
    }
   ],
   "source": [
    "#8\n",
    "purchase_amount = float(input(\"Enter the purchase amount: \"))\n",
    "\n",
    "discount = 0\n",
    "\n",
    "if purchase_amount >= 100:\n",
    "  discount = purchase_amount * 0.10\n",
    "elif purchase_amount >= 50:\n",
    "  discount = purchase_amount * 0.05\n",
    "\n",
    "print(f\"The discount amount is {discount}.\")\n"
   ]
  },
  {
   "cell_type": "code",
   "execution_count": 50,
   "id": "c17a89e6-2bb3-4bd0-8e5c-e313134f602c",
   "metadata": {},
   "outputs": [
    {
     "name": "stdin",
     "output_type": "stream",
     "text": [
      "Enter a number:  575\n",
      "Enter the lower bound of the range:  55\n",
      "Enter the upper bound of the range:  888\n"
     ]
    },
    {
     "name": "stdout",
     "output_type": "stream",
     "text": [
      "The number is within the range.\n"
     ]
    }
   ],
   "source": [
    "#9\n",
    "number = int(input(\"Enter a number: \"))\n",
    "min_range = int(input(\"Enter the lower bound of the range: \"))\n",
    "max_range = int(input(\"Enter the upper bound of the range: \"))\n",
    "\n",
    "if number >= min_range and number <= max_range:\n",
    "  print(\"The number is within the range.\")\n",
    "else:\n",
    "  print(\"The number is not within the range.\")\n"
   ]
  },
  {
   "cell_type": "code",
   "execution_count": 51,
   "id": "c81a8802-0822-46b3-87e4-71e507d3a5fc",
   "metadata": {},
   "outputs": [
    {
     "name": "stdin",
     "output_type": "stream",
     "text": [
      "Enter the student's score:  55\n"
     ]
    },
    {
     "name": "stdout",
     "output_type": "stream",
     "text": [
      "The student's grade is F.\n"
     ]
    }
   ],
   "source": [
    "#10\n",
    "score = int(input(\"Enter the student's score: \"))\n",
    "\n",
    "if score >= 90:\n",
    "  grade = \"A\"\n",
    "elif score >= 80:\n",
    "  grade = \"B\"\n",
    "elif score >= 70:\n",
    "  grade = \"C\"\n",
    "elif score >= 60:\n",
    "  grade = \"D\"\n",
    "else:\n",
    "  grade = \"F\"\n",
    "\n",
    "print(f\"The student's grade is {grade}.\")\n"
   ]
  },
  {
   "cell_type": "code",
   "execution_count": 52,
   "id": "e4d23db4-c421-4da9-8e89-5c2b011d5a2a",
   "metadata": {},
   "outputs": [
    {
     "name": "stdin",
     "output_type": "stream",
     "text": [
      "Enter a string:  \n"
     ]
    },
    {
     "name": "stdout",
     "output_type": "stream",
     "text": [
      "The string is empty.\n"
     ]
    }
   ],
   "source": [
    "#11\n",
    "string = input(\"Enter a string: \")\n",
    "\n",
    "if string == \"\":\n",
    "  print(\"The string is empty.\")\n",
    "else:\n",
    "  print(\"The string is not empty.\")\n"
   ]
  },
  {
   "cell_type": "code",
   "execution_count": 53,
   "id": "880b125e-5d05-44e5-b4aa-19c84cc105ba",
   "metadata": {},
   "outputs": [
    {
     "name": "stdin",
     "output_type": "stream",
     "text": [
      "Enter the length of the first side of the triangle:  55\n",
      "Enter the length of the second side of the triangle:  55\n",
      "Enter the length of the third side of the triangle:  55\n"
     ]
    },
    {
     "name": "stdout",
     "output_type": "stream",
     "text": [
      "The type of the triangle is equilateral.\n"
     ]
    }
   ],
   "source": [
    "#12\n",
    "side1 = int(input(\"Enter the length of the first side of the triangle: \"))\n",
    "side2 = int(input(\"Enter the length of the second side of the triangle: \"))\n",
    "side3 = int(input(\"Enter the length of the third side of the triangle: \"))\n",
    "\n",
    "if side1 == side2 and side2 == side3:\n",
    "  triangle_type = \"equilateral\"\n",
    "elif side1 == side2 or side1 == side3 or side2 == side3:\n",
    "  triangle_type = \"isosceles\"\n",
    "else:\n",
    "  triangle_type = \"scalene\"\n",
    "\n",
    "print(f\"The type of the triangle is {triangle_type}.\")\n"
   ]
  },
  {
   "cell_type": "code",
   "execution_count": 54,
   "id": "2ea13c4b-871c-40d3-9879-7fec1f4e32b6",
   "metadata": {},
   "outputs": [
    {
     "name": "stdin",
     "output_type": "stream",
     "text": [
      "Enter a day number (1-7):  6\n"
     ]
    },
    {
     "name": "stdout",
     "output_type": "stream",
     "text": [
      "The day of the week is Saturday.\n"
     ]
    }
   ],
   "source": [
    "#13\n",
    "def determine_day_of_week(day_number):\n",
    "  if day_number == 1:\n",
    "    day_of_week = \"Monday\"\n",
    "  elif day_number == 2:\n",
    "    day_of_week = \"Tuesday\"\n",
    "  elif day_number == 3:\n",
    "    day_of_week = \"Wednesday\"\n",
    "  elif day_number == 4:\n",
    "    day_of_week = \"Thursday\"\n",
    "  elif day_number == 5:\n",
    "    day_of_week = \"Friday\"\n",
    "  elif day_number == 6:\n",
    "    day_of_week = \"Saturday\"\n",
    "  else:\n",
    "    day_of_week = \"Sunday\"\n",
    "\n",
    "  return day_of_week\n",
    "\n",
    "\n",
    "# Get the day number from the user.\n",
    "day_number = int(input(\"Enter a day number (1-7): \"))\n",
    "\n",
    "# Determine the day of the week.\n",
    "day_of_week = determine_day_of_week(day_number)\n",
    "\n",
    "# Print the day of the week to the console.\n",
    "print(f\"The day of the week is {day_of_week}.\")\n"
   ]
  },
  {
   "cell_type": "code",
   "execution_count": 55,
   "id": "22d0023b-4cbd-4818-b4d4-019d426f0e1d",
   "metadata": {},
   "outputs": [
    {
     "name": "stdin",
     "output_type": "stream",
     "text": [
      "Enter a year:  2024\n"
     ]
    },
    {
     "name": "stdout",
     "output_type": "stream",
     "text": [
      "The year is a leap year.\n"
     ]
    }
   ],
   "source": [
    "#14\n",
    "def is_leap_year(year):\n",
    "  if year % 100 == 0 and year % 400 != 0:\n",
    "    return False\n",
    "\n",
    "  else:\n",
    "    if year % 4 == 0:\n",
    "      return True\n",
    "\n",
    "  return False\n",
    "\n",
    "\n",
    "# Get the year from the user.\n",
    "year = int(input(\"Enter a year: \"))\n",
    "\n",
    "# Check if the year is a leap year.\n",
    "is_leap_year = is_leap_year(year)\n",
    "\n",
    "# Print the result to the console.\n",
    "if is_leap_year:\n",
    "  print(\"The year is a leap year.\")\n",
    "else:\n",
    "  print(\"The year is not a leap year.\")\n"
   ]
  },
  {
   "cell_type": "raw",
   "id": "ed0f85d4-1a7f-4c86-bc73-711d41548af9",
   "metadata": {},
   "source": [
    "#15\n",
    "The assert statement in Python can be used to add debugging checks within if-else blocks. \n",
    "If the expression in the assert statement is False, a AssertionError exception will be raised.\n",
    "This can be helpful for identifying errors in your code."
   ]
  },
  {
   "cell_type": "code",
   "execution_count": 56,
   "id": "d0a61955-3e5c-484e-9c8c-4050dd4922ad",
   "metadata": {},
   "outputs": [
    {
     "name": "stdin",
     "output_type": "stream",
     "text": [
      "Enter your age:  55\n"
     ]
    },
    {
     "name": "stdout",
     "output_type": "stream",
     "text": [
      "You are not eligible for a senior citizen discount.\n"
     ]
    }
   ],
   "source": [
    "#16\n",
    "def is_eligible_for_senior_citizen_discount(age):\n",
    "  if age >= 65:\n",
    "    return True\n",
    "  else:\n",
    "    return False\n",
    "\n",
    "# Example usage:\n",
    "age = int(input(\"Enter your age: \"))\n",
    "if is_eligible_for_senior_citizen_discount(age):\n",
    "  print(\"You are eligible for a senior citizen discount.\")\n",
    "else:\n",
    "  print(\"You are not eligible for a senior citizen discount.\")\n"
   ]
  },
  {
   "cell_type": "code",
   "execution_count": 62,
   "id": "5be97a97-89ff-4969-9952-6f1c44d79484",
   "metadata": {},
   "outputs": [
    {
     "name": "stdin",
     "output_type": "stream",
     "text": [
      "Enter a character:  k\n"
     ]
    },
    {
     "name": "stdout",
     "output_type": "stream",
     "text": [
      "lowercase\n"
     ]
    }
   ],
   "source": [
    "#17\n",
    "import string\n",
    "\n",
    "def categorize_character(char):\n",
    "    \"\"\"Categorizes a given character as uppercase, lowercase, or neither.\"\"\"\n",
    "    if char in string.ascii_uppercase:\n",
    "        return \"uppercase\"\n",
    "    elif char in string.ascii_lowercase:\n",
    "        return \"lowercase\"\n",
    "    else:\n",
    "        return \"neither\"\n",
    "\n",
    "# Example usage:\n",
    "char = input(\"Enter a character: \")\n",
    "category = categorize_character(char)\n",
    "print(category)\n",
    "\n"
   ]
  },
  {
   "cell_type": "code",
   "execution_count": 65,
   "id": "29c9f31f-3a06-4147-bee2-8a0834640d03",
   "metadata": {},
   "outputs": [
    {
     "name": "stdin",
     "output_type": "stream",
     "text": [
      "Enter the coefficients of the quadratic equation:  5 2 3\n"
     ]
    },
    {
     "name": "stdout",
     "output_type": "stream",
     "text": [
      "The quadratic equation has no real roots.\n"
     ]
    }
   ],
   "source": [
    "#18\n",
    "import math\n",
    "\n",
    "def quadratic_formula(a, b, c):\n",
    "  discriminant = b**2 - 4 * a * c\n",
    "  if discriminant > 0:\n",
    "    root1 = (-b + math.sqrt(discriminant)) / (2 * a)\n",
    "    root2 = (-b - math.sqrt(discriminant)) / (2 * a)\n",
    "    return root1, root2\n",
    "  elif discriminant == 0:\n",
    "    root = -b / (2 * a)\n",
    "    return root\n",
    "  else:\n",
    "    return None\n",
    "\n",
    "# Example usage:\n",
    "a, b, c = input(\"Enter the coefficients of the quadratic equation: \").split()\n",
    "a = float(a)\n",
    "b = float(b)\n",
    "c = float(c)\n",
    "\n",
    "roots = quadratic_formula(a, b, c)\n",
    "if roots is None:\n",
    "  print(\"The quadratic equation has no real roots.\")\n",
    "elif isinstance(roots, tuple):\n",
    "  print(\"The roots of the quadratic equation are {} and {}\".format(roots[0], roots[1]))\n",
    "else:\n",
    "  print(\"The root of the quadratic equation is {}\".format(roots))\n"
   ]
  },
  {
   "cell_type": "code",
   "execution_count": 67,
   "id": "b27667f3-38f4-47df-8efc-6639351945a1",
   "metadata": {},
   "outputs": [
    {
     "name": "stdin",
     "output_type": "stream",
     "text": [
      "Enter a year:  202\n"
     ]
    },
    {
     "name": "stdout",
     "output_type": "stream",
     "text": [
      "The given year is not a century year.\n"
     ]
    }
   ],
   "source": [
    "#19\n",
    "def is_century_year(year):\n",
    "  return year % 100 == 0\n",
    "\n",
    "# Example usage:\n",
    "year = int(input(\"Enter a year: \"))\n",
    "\n",
    "if is_century_year(year):\n",
    "  print(\"The given year is a century year.\")\n",
    "else:\n",
    "  print(\"The given year is not a century year.\")\n"
   ]
  },
  {
   "cell_type": "code",
   "execution_count": 68,
   "id": "81e65107-f94b-45e3-87b9-0503c3ada0df",
   "metadata": {},
   "outputs": [
    {
     "name": "stdin",
     "output_type": "stream",
     "text": [
      "Enter a number:  24\n"
     ]
    },
    {
     "name": "stdout",
     "output_type": "stream",
     "text": [
      "The given number is not a perfect square.\n"
     ]
    }
   ],
   "source": [
    "#20\n",
    "def is_perfect_square(number):\n",
    "  import math\n",
    "  root = math.sqrt(number)\n",
    "  return root == int(root)\n",
    "\n",
    "# Example usage:\n",
    "number = int(input(\"Enter a number: \"))\n",
    "\n",
    "if is_perfect_square(number):\n",
    "  print(\"The given number is a perfect square.\")\n",
    "else:\n",
    "  print(\"The given number is not a perfect square.\")\n"
   ]
  },
  {
   "cell_type": "raw",
   "id": "64fb8ae2-8621-4cb9-9ab3-b3148bf4b249",
   "metadata": {},
   "source": [
    "#21\n",
    "The continue statement skips the rest of the loop body and continues to the next iteration of the loop. The break statement terminates the loop entirely."
   ]
  },
  {
   "cell_type": "code",
   "execution_count": 13,
   "id": "146d7cc1-663f-4b85-a19d-8cadb2a05ba3",
   "metadata": {},
   "outputs": [
    {
     "name": "stdin",
     "output_type": "stream",
     "text": [
      "Enter your weight in kilograms:  62\n",
      "Enter your height in meters:  1.8\n"
     ]
    },
    {
     "name": "stdout",
     "output_type": "stream",
     "text": [
      "Your BMI is 19.1358024691358 and you are normal weight\n"
     ]
    }
   ],
   "source": [
    "#22\n",
    "def calculate_bmi(weight, height):\n",
    "\n",
    "  bmi = weight / (height * height)\n",
    "  return bmi\n",
    "\n",
    "def categorize_bmi(bmi):\n",
    "\n",
    "  if bmi < 18.5:\n",
    "    return \"underweight\"\n",
    "  elif bmi >= 18.5 and bmi < 25:\n",
    "    return \"normal weight\"\n",
    "  elif bmi >= 25 and bmi < 30:\n",
    "    return \"overweight\"\n",
    "  else:\n",
    "    return \"obese\"\n",
    "\n",
    "# Example usage:\n",
    "weight = float(input(\"Enter your weight in kilograms: \"))\n",
    "height = float(input(\"Enter your height in meters: \"))\n",
    "\n",
    "bmi = calculate_bmi(weight, height)\n",
    "bmi_category = categorize_bmi(bmi)\n",
    "\n",
    "print(\"Your BMI is {} and you are {}\".format(bmi, bmi_category))\n",
    "\n"
   ]
  },
  {
   "cell_type": "code",
   "execution_count": 14,
   "id": "6fa0cccb-ba2a-4c81-81f8-3efa6468f735",
   "metadata": {},
   "outputs": [
    {
     "name": "stdout",
     "output_type": "stream",
     "text": [
      "[2, 4, 6]\n"
     ]
    }
   ],
   "source": [
    "#23\n",
    "def is_even(number):\n",
    "  return number % 2 == 0\n",
    "\n",
    "list_of_numbers = [1, 2, 3, 4, 5, 6]\n",
    "\n",
    "even_numbers = list(filter(is_even, list_of_numbers))\n",
    "\n",
    "print(even_numbers)\n"
   ]
  },
  {
   "cell_type": "code",
   "execution_count": 15,
   "id": "56cdd5c0-b9af-4ba2-beab-2288923d2758",
   "metadata": {},
   "outputs": [
    {
     "name": "stdin",
     "output_type": "stream",
     "text": [
      "Enter a number:  45\n"
     ]
    },
    {
     "name": "stdout",
     "output_type": "stream",
     "text": [
      "The given number is not prime.\n"
     ]
    }
   ],
   "source": [
    "#24\n",
    "def is_prime(number):\n",
    "  if number < 2:\n",
    "    return False\n",
    "\n",
    "  for i in range(2, int(number**0.5) + 1):\n",
    "    if number % i == 0:\n",
    "      return False\n",
    "\n",
    "  return True\n",
    "\n",
    "# Example usage:\n",
    "number = int(input(\"Enter a number: \"))\n",
    "\n",
    "if is_prime(number):\n",
    "  print(\"The given number is prime.\")\n",
    "else:\n",
    "  print(\"The given number is not prime.\")\n"
   ]
  },
  {
   "cell_type": "code",
   "execution_count": 1,
   "id": "a5be5ea4-677c-4c68-afae-c6e261d535cd",
   "metadata": {},
   "outputs": [
    {
     "name": "stdout",
     "output_type": "stream",
     "text": [
      "[2, 4, 6, 8, 10]\n"
     ]
    }
   ],
   "source": [
    "#1\n",
    "def double(number):\n",
    "  return number * 2\n",
    "\n",
    "numbers = [1, 2, 3, 4, 5]\n",
    "\n",
    "doubled_numbers = list(map(double, numbers))\n",
    "\n",
    "print(doubled_numbers)\n"
   ]
  },
  {
   "cell_type": "code",
   "execution_count": 3,
   "id": "13477291-c87e-4aa7-8552-d1a91c2b92e1",
   "metadata": {},
   "outputs": [
    {
     "name": "stdout",
     "output_type": "stream",
     "text": [
      "[4, 25, 1024, 1, 2025, 16]\n"
     ]
    }
   ],
   "source": [
    "#2\n",
    "l=[2,5,32,1,45,4]\n",
    "print(list(map(lambda c : c*c,l)))"
   ]
  },
  {
   "cell_type": "raw",
   "id": "a092df48-41ae-450d-a7d6-fa2e37965e87",
   "metadata": {},
   "source": [
    "#3\n",
    "you should use the map() function if you need to process a large collection efficiently.\n",
    "You should use a list comprehension if you need to write a concise and expressive for loop that iterates over a collection and creates a new list."
   ]
  },
  {
   "cell_type": "code",
   "execution_count": 6,
   "id": "dc7fbd3a-9d24-40d7-a5dd-f9509061c27b",
   "metadata": {},
   "outputs": [
    {
     "name": "stdout",
     "output_type": "stream",
     "text": [
      "['VAIBHAV', 'TARUSHEE', 'YASH']\n"
     ]
    }
   ],
   "source": [
    "#4\n",
    "l=[\"vaibhav\",\"tarushee\",\"yash\"]\n",
    "print(list(map(lambda c : c.upper(),l)))"
   ]
  },
  {
   "cell_type": "code",
   "execution_count": 7,
   "id": "2f55ad92-0411-49a1-9bb2-782787a8113b",
   "metadata": {},
   "outputs": [
    {
     "name": "stdout",
     "output_type": "stream",
     "text": [
      "[7, 8, 4]\n"
     ]
    }
   ],
   "source": [
    "#5\n",
    "l=[\"vaibhav\",\"tarushee\",\"yash\"]\n",
    "print(list(map(len,l)))"
   ]
  },
  {
   "cell_type": "code",
   "execution_count": 8,
   "id": "145b8736-b7d5-4a90-bf2d-1df0db212b3e",
   "metadata": {},
   "outputs": [
    {
     "name": "stdout",
     "output_type": "stream",
     "text": [
      "[7, 9, 11, 13, 15]\n"
     ]
    }
   ],
   "source": [
    "#6\n",
    "def add(a, b):\n",
    "  return a + b\n",
    "\n",
    "numbers1 = [1, 2, 3, 4, 5]\n",
    "numbers2 = [6, 7, 8, 9, 10]\n",
    "\n",
    "summed_numbers = list(map(add, numbers1, numbers2))\n",
    "\n",
    "print(summed_numbers)\n"
   ]
  },
  {
   "cell_type": "code",
   "execution_count": 10,
   "id": "1f73e6af-1e00-48ba-a95f-4b1afc7f0de0",
   "metadata": {},
   "outputs": [
    {
     "name": "stdout",
     "output_type": "stream",
     "text": [
      "[50.0, 68.0, 86.0, 104.0, 122.0]\n"
     ]
    }
   ],
   "source": [
    "#7\n",
    "s = [10, 20, 30, 40, 50]\n",
    "\n",
    "t = list(map(lambda s: s * 1.8 + 32, s))\n",
    "\n",
    "print(t)\n"
   ]
  },
  {
   "cell_type": "code",
   "execution_count": 15,
   "id": "97525f7f-7272-48cf-aedf-ad46121a2b0b",
   "metadata": {},
   "outputs": [
    {
     "name": "stdout",
     "output_type": "stream",
     "text": [
      "[11, 21, 31, 40, 51]\n"
     ]
    }
   ],
   "source": [
    "#8\n",
    "s = [10.564, 20.64574, 30.66745853, 40.464564, 50.66]\n",
    "print(list(map(round,s)))"
   ]
  },
  {
   "cell_type": "code",
   "execution_count": 2,
   "id": "29b556c4-b95a-484d-b621-51f582ab7b4b",
   "metadata": {},
   "outputs": [
    {
     "name": "stdout",
     "output_type": "stream",
     "text": [
      "15\n"
     ]
    }
   ],
   "source": [
    "#1\n",
    "from functools import reduce\n",
    "numbers = [1, 2, 3, 4, 5]\n",
    "sum = reduce(lambda a, b: a + b, numbers)\n",
    "print(sum)\n"
   ]
  },
  {
   "cell_type": "code",
   "execution_count": 3,
   "id": "28979d1a-cff1-4b23-9047-c985aa1f40d7",
   "metadata": {},
   "outputs": [
    {
     "name": "stdout",
     "output_type": "stream",
     "text": [
      "120\n"
     ]
    }
   ],
   "source": [
    "#2\n",
    "numbers = [1, 2, 3, 4, 5]\n",
    "sum = reduce(lambda a, b: a * b, numbers)\n",
    "print(sum)\n"
   ]
  },
  {
   "cell_type": "code",
   "execution_count": 4,
   "id": "16375468-517c-42ee-b2e1-70ce0e57c1e9",
   "metadata": {},
   "outputs": [
    {
     "name": "stdout",
     "output_type": "stream",
     "text": [
      "5\n"
     ]
    }
   ],
   "source": [
    "#3\n",
    "numbers = [1, 2, 3, 4, 5]\n",
    "sum = reduce(max, numbers)\n",
    "print(sum)\n"
   ]
  },
  {
   "cell_type": "code",
   "execution_count": 12,
   "id": "bb618a2d-2927-4897-85d6-209fa2fec779",
   "metadata": {},
   "outputs": [
    {
     "name": "stdout",
     "output_type": "stream",
     "text": [
      "vaibhavtarusheeyash\n"
     ]
    }
   ],
   "source": [
    "#4\n",
    "l=[\"vaibhav\",\"tarushee\",\"yash\"]\n",
    "print(reduce(lambda a,b:a+b,l))"
   ]
  },
  {
   "cell_type": "code",
   "execution_count": 13,
   "id": "f2ecdfb6-fae7-45be-8803-2e16aabfe1b4",
   "metadata": {},
   "outputs": [
    {
     "name": "stdout",
     "output_type": "stream",
     "text": [
      "120\n"
     ]
    }
   ],
   "source": [
    "#5\n",
    "from functools import reduce\n",
    "\n",
    "factorial = lambda n: reduce(lambda x, y: x * y, range(1, n + 1))\n",
    "\n",
    "# Example usage:\n",
    "\n",
    "n = 5\n",
    "factorial_of_n = factorial(n)\n",
    "\n",
    "print(factorial_of_n)\n"
   ]
  },
  {
   "cell_type": "code",
   "execution_count": 14,
   "id": "5096c4fb-9bd8-498a-be67-d7d258d2190e",
   "metadata": {},
   "outputs": [
    {
     "name": "stdout",
     "output_type": "stream",
     "text": [
      "6\n"
     ]
    }
   ],
   "source": [
    "#6\n",
    "from functools import reduce\n",
    "\n",
    "def gcd(list_of_numbers):\n",
    "  \"\"\"Calculates the GCD (Greatest Common Divisor) of a list of numbers.\n",
    "\n",
    "  Args:\n",
    "    list_of_numbers: A list of numbers.\n",
    "\n",
    "  Returns:\n",
    "    The GCD of the list of numbers.\n",
    "  \"\"\"\n",
    "\n",
    "  # Define a function that takes two numbers and returns their GCD.\n",
    "  def gcd_of_two_numbers(x, y):\n",
    "    if y == 0:\n",
    "      return x\n",
    "    else:\n",
    "      return gcd_of_two_numbers(y, x % y)\n",
    "\n",
    "  # Use the reduce() function to apply the gcd_of_two_numbers() function to all the\n",
    "  # numbers in the list and return the final result.\n",
    "  return reduce(gcd_of_two_numbers, list_of_numbers)\n",
    "\n",
    "# Example usage:\n",
    "\n",
    "list_of_numbers = [12, 18, 24]\n",
    "gcd_of_list_of_numbers = gcd(list_of_numbers)\n",
    "\n",
    "print(gcd_of_list_of_numbers)\n"
   ]
  },
  {
   "cell_type": "code",
   "execution_count": 15,
   "id": "9bb1eb51-0e22-492f-821d-581dfaf68032",
   "metadata": {},
   "outputs": [
    {
     "name": "stdout",
     "output_type": "stream",
     "text": [
      "15\n"
     ]
    }
   ],
   "source": [
    "#7\n",
    "from functools import reduce\n",
    "\n",
    "def sum_of_digits(number):\n",
    "  \"\"\"Calculates the sum of the digits of a given number.\n",
    "\n",
    "  Args:\n",
    "    number: A non-negative integer.\n",
    "\n",
    "  Returns:\n",
    "    The sum of the digits of the number.\n",
    "  \"\"\"\n",
    "\n",
    "  # Define a function that takes two numbers and returns their sum.\n",
    "  def add(x, y):\n",
    "    return x + y\n",
    "\n",
    "  # Convert the number to a string.\n",
    "  number_string = str(number)\n",
    "\n",
    "  # Extract the digits of the number as a list.\n",
    "  digits = list(number_string)\n",
    "\n",
    "  # Convert the digits to integers.\n",
    "  digits_as_integers = [int(digit) for digit in digits]\n",
    "\n",
    "  # Use the reduce() function to apply the add() function to all the digits of\n",
    "  # the number and return the final result.\n",
    "  return reduce(add, digits_as_integers)\n",
    "\n",
    "# Example usage:\n",
    "\n",
    "number = 12345\n",
    "sum_of_digits_of_number = sum_of_digits(number)\n",
    "\n",
    "print(sum_of_digits_of_number)\n"
   ]
  },
  {
   "cell_type": "code",
   "execution_count": 17,
   "id": "dc17348f-a175-458b-a84e-f2f517bd4c6e",
   "metadata": {},
   "outputs": [
    {
     "name": "stdout",
     "output_type": "stream",
     "text": [
      "[1, 3, 5, 7, 9]\n"
     ]
    }
   ],
   "source": [
    "#1\n",
    "list1 = [1, 2, 3, 4, 5, 6, 7, 8, 9, 10]\n",
    "\n",
    "def is_odd(number):\n",
    "  return number % 2 != 0\n",
    "\n",
    "even_numbers = filter(is_odd, list1)\n",
    "\n",
    "print(list(even_numbers))\n"
   ]
  },
  {
   "cell_type": "code",
   "execution_count": 18,
   "id": "0f377c42-46c4-451e-b5f3-f5451ef37886",
   "metadata": {},
   "outputs": [
    {
     "name": "stdout",
     "output_type": "stream",
     "text": [
      "[2, 4, 6, 8, 10]\n"
     ]
    }
   ],
   "source": [
    "#2\n",
    "list1 = [1, 2, 3, 4, 5, 6, 7, 8, 9, 10]\n",
    "\n",
    "def is_even(number):\n",
    "  return number % 2 == 0\n",
    "\n",
    "even_numbers = filter(is_even, list1)\n",
    "\n",
    "print(list(even_numbers))\n"
   ]
  },
  {
   "cell_type": "code",
   "execution_count": 26,
   "id": "8b815641-cda1-4e55-b548-595ec9a3e777",
   "metadata": {},
   "outputs": [
    {
     "name": "stdout",
     "output_type": "stream",
     "text": [
      "['vaibhav', 'vash']\n",
      "7\n"
     ]
    }
   ],
   "source": [
    "#3\n",
    "l=[\"vaibhav\",\"tarushee\",\"vash\"]\n",
    "print(list(filter(lambda a: a[0]=='v',l)))"
   ]
  },
  {
   "cell_type": "code",
   "execution_count": 20,
   "id": "abc1d827-84c8-418e-b8a5-fea17d3762e3",
   "metadata": {},
   "outputs": [
    {
     "name": "stdout",
     "output_type": "stream",
     "text": [
      "[1, 2, 3, 5, 7]\n"
     ]
    }
   ],
   "source": [
    "#4\n",
    "def is_prime(number):\n",
    "  for i in range(2, int(number**0.5) + 1):\n",
    "    if number % i == 0:\n",
    "      return False\n",
    "  return True\n",
    "\n",
    "list_of_numbers = [1, 2, 3, 4, 5, 6, 7, 8, 9, 10]\n",
    "\n",
    "prime_numbers = filter(is_prime, list_of_numbers)\n",
    "\n",
    "print(list(prime_numbers))\n"
   ]
  },
  {
   "cell_type": "code",
   "execution_count": 21,
   "id": "7e93f89c-b82c-47fd-b58e-2c0ed1273d23",
   "metadata": {},
   "outputs": [
    {
     "name": "stdout",
     "output_type": "stream",
     "text": [
      "[1, 2, 3, 5, 7]\n"
     ]
    }
   ],
   "source": [
    "#5\n",
    "list1 = [1, 2, 3, None, 5, None, 7]\n",
    "print(list(filter(lambda a:a is not None,list1)))"
   ]
  },
  {
   "cell_type": "code",
   "execution_count": 31,
   "id": "40a7f7f1-433e-44e0-b53f-eb4c915b509a",
   "metadata": {},
   "outputs": [
    {
     "name": "stdout",
     "output_type": "stream",
     "text": [
      "['vaibhav', 'tarushee']\n"
     ]
    }
   ],
   "source": [
    "#6\n",
    "l=[\"vaibhav\",\"tarushee\",\"vash\"]\n",
    "print(list(filter(lambda a:len(a)>4,l)))"
   ]
  },
  {
   "cell_type": "code",
   "execution_count": 32,
   "id": "4bd8e77c-e78b-49a4-ae07-b32a7e8dfdf7",
   "metadata": {},
   "outputs": [
    {
     "name": "stdout",
     "output_type": "stream",
     "text": [
      "[6, 7, 8, 9, 10]\n"
     ]
    }
   ],
   "source": [
    "#7\n",
    "def select_greater_than_threshold(list_of_values, threshold):\n",
    "  \"\"\"Selects elements greater than a specified threshold from a list of values.\n",
    "\n",
    "  Args:\n",
    "    list_of_values: A list of values.\n",
    "    threshold: A threshold value.\n",
    "\n",
    "  Returns:\n",
    "    A list of values greater than the specified threshold.\n",
    "  \"\"\"\n",
    "\n",
    "  return filter(lambda value: value > threshold, list_of_values)\n",
    "\n",
    "# Example usage:\n",
    "\n",
    "list_of_values = [1, 2, 3, 4, 5, 6, 7, 8, 9, 10]\n",
    "threshold = 5\n",
    "\n",
    "selected_values = select_greater_than_threshold(list_of_values, threshold)\n",
    "\n",
    "print(list(selected_values))\n"
   ]
  },
  {
   "cell_type": "raw",
   "id": "3708eed7-df30-42d7-b52a-f6b86148e6dd",
   "metadata": {},
   "source": [
    "#1\n",
    "The main difference between recursion and iteration is that recursion is self-calling, while iteration is not. This means that recursion can be used to solve problems that cannot be solved using iteration alone.\n",
    "\n"
   ]
  },
  {
   "cell_type": "code",
   "execution_count": 33,
   "id": "947e099b-ab1e-4f5f-ab10-7b2c6d121866",
   "metadata": {},
   "outputs": [
    {
     "name": "stdout",
     "output_type": "stream",
     "text": [
      "120\n"
     ]
    }
   ],
   "source": [
    "#2\n",
    "def factorial(n):\n",
    "  \"\"\"Calculates the factorial of a number.\n",
    "\n",
    "  Args:\n",
    "    n: A non-negative integer.\n",
    "\n",
    "  Returns:\n",
    "    The factorial of n.\n",
    "  \"\"\"\n",
    "\n",
    "  if n == 0:\n",
    "    return 1\n",
    "  else:\n",
    "    return n * factorial(n - 1)\n",
    "\n",
    "# Example usage:\n",
    "\n",
    "factorial_of_5 = factorial(5)\n",
    "\n",
    "print(factorial_of_5)\n"
   ]
  },
  {
   "cell_type": "code",
   "execution_count": 34,
   "id": "bdd1ce31-e58b-4005-bab3-7ab0e4946adf",
   "metadata": {},
   "outputs": [
    {
     "name": "stdout",
     "output_type": "stream",
     "text": [
      "5\n"
     ]
    }
   ],
   "source": [
    "#3\n",
    "def fibonacci(n):\n",
    "  \"\"\"Calculates the nth Fibonacci number.\n",
    "\n",
    "  Args:\n",
    "    n: The index of the Fibonacci number to calculate.\n",
    "\n",
    "  Returns:\n",
    "    The nth Fibonacci number.\n",
    "  \"\"\"\n",
    "\n",
    "  if n == 0 or n == 1:\n",
    "    return n\n",
    "  else:\n",
    "    return fibonacci(n - 1) + fibonacci(n - 2)\n",
    "\n",
    "# Example usage:\n",
    "\n",
    "nth_fibonacci_number = fibonacci(5)\n",
    "\n",
    "print(nth_fibonacci_number)\n"
   ]
  },
  {
   "cell_type": "code",
   "execution_count": 37,
   "id": "9d762e6d-4946-492d-ae4a-d161b4e02214",
   "metadata": {},
   "outputs": [
    {
     "name": "stdout",
     "output_type": "stream",
     "text": [
      "153.00176252999998\n"
     ]
    }
   ],
   "source": [
    "#4\n",
    "s = [10.564, 20.64574, 30.66745853, 40.464564, 50.66]\n",
    "def sumofall(s):\n",
    "    if len(s)==0:\n",
    "        return 0\n",
    "    else:\n",
    "        return s[0]+sumofall(s[1:])\n",
    "print(sumofall(s))"
   ]
  },
  {
   "cell_type": "raw",
   "id": "09131323-14e5-4f79-9fb4-755ed00d392d",
   "metadata": {},
   "source": [
    "#5\n",
    "There are two ways to prevent a recursive function from running indefinitely and causing a stack overflow error:\n",
    "\n",
    "Use base cases. A recursive function must have at least one base case, which is a condition where the function returns without calling itself. This ensures that the function will eventually terminate.\n",
    "Use a stack. A stack can be used to keep track of the recursive calls and to ensure that the function does not call itself too many times."
   ]
  },
  {
   "cell_type": "code",
   "execution_count": 38,
   "id": "71531265-497f-4905-826d-ef6c9a4cc357",
   "metadata": {},
   "outputs": [
    {
     "name": "stdout",
     "output_type": "stream",
     "text": [
      "6\n"
     ]
    }
   ],
   "source": [
    "#6\n",
    "def gcd(a, b):\n",
    "\n",
    "  if b == 0:\n",
    "    return a\n",
    "  else:\n",
    "    return gcd(b, a % b)\n",
    "\n",
    "# Example usage:\n",
    "\n",
    "a = 12\n",
    "b = 18\n",
    "\n",
    "gcd_of_a_and_b = gcd(a, b)\n",
    "\n",
    "print(gcd_of_a_and_b)\n"
   ]
  },
  {
   "cell_type": "code",
   "execution_count": 43,
   "id": "245a97b8-1895-49e2-8cdd-9001229accba",
   "metadata": {},
   "outputs": [
    {
     "name": "stdin",
     "output_type": "stream",
     "text": [
      "enter a string to reverse it: tarushee\n"
     ]
    },
    {
     "name": "stdout",
     "output_type": "stream",
     "text": [
      "eehsurat\n"
     ]
    }
   ],
   "source": [
    "#7\n",
    "s=input(\"enter a string to reverse it:\")\n",
    "def rev(s):\n",
    "    return s[::-1]\n",
    "print(rev(s))"
   ]
  },
  {
   "cell_type": "code",
   "execution_count": null,
   "id": "b76032ff-39dc-4424-b8a3-b9caff80492a",
   "metadata": {},
   "outputs": [],
   "source": [
    "#8\n",
    "x=2\n",
    "n=3\n",
    "def power(x,n):\n",
    "    if n==0:\n",
    "        return 1\n",
    "    else:\n",
    "        return x*power(x,n-1)\n",
    "print(power(x,n))\n"
   ]
  },
  {
   "cell_type": "code",
   "execution_count": 68,
   "id": "9685369f-dac4-400e-a15f-c2100cdf75de",
   "metadata": {},
   "outputs": [
    {
     "name": "stdout",
     "output_type": "stream",
     "text": [
      "All permutations of abc are: ['abc', 'acb', 'bac', 'bca', 'cab', 'cba']\n"
     ]
    }
   ],
   "source": [
    "#9\n",
    "def find_permutations(s):\n",
    "    if len(s) <= 1:\n",
    "        return [s]\n",
    "    else:\n",
    "        perm_list = []\n",
    "        for char in s:\n",
    "            for perm in find_permutations(s.replace(char, \"\", 1)):\n",
    "                perm_list.append(char + perm)\n",
    "        return perm_list\n",
    "\n",
    "# Example usage:\n",
    "input_string = \"abc\"\n",
    "permutations = find_permutations(input_string)\n",
    "print(\"All permutations of\", input_string, \"are:\", permutations)\n"
   ]
  },
  {
   "cell_type": "code",
   "execution_count": 49,
   "id": "3ba616b4-69d7-4190-a922-ea8ea9241410",
   "metadata": {},
   "outputs": [
    {
     "name": "stdout",
     "output_type": "stream",
     "text": [
      "True\n"
     ]
    }
   ],
   "source": [
    "#10\n",
    "def is_palindrome(string):\n",
    "  if len(string) <= 1:\n",
    "    return True\n",
    "  else:\n",
    "    return string[0] == string[-1] and is_palindrome(string[1:-1])\n",
    "\n",
    "# Example usage:\n",
    "\n",
    "string = \"racecar\"\n",
    "\n",
    "is_palindrome_string = is_palindrome(string)\n",
    "\n",
    "print(is_palindrome_string)\n"
   ]
  },
  {
   "cell_type": "code",
   "execution_count": 1,
   "id": "26d9c154-6600-4aee-9371-1407a3f07300",
   "metadata": {},
   "outputs": [
    {
     "name": "stdout",
     "output_type": "stream",
     "text": [
      "[1, 2, 3]\n",
      "[1, 2]\n",
      "[1, 3]\n",
      "[1]\n",
      "[2, 3]\n",
      "[2]\n",
      "[3]\n",
      "[]\n"
     ]
    }
   ],
   "source": [
    "#11\n",
    "def generate_combinations(elements, current_combination=[]):\n",
    "    if not elements:\n",
    "        # If the list of elements is empty, yield the current combination\n",
    "        yield current_combination\n",
    "    else:\n",
    "        # Include the current element in the combination and recurse\n",
    "        yield from generate_combinations(elements[1:], current_combination + [elements[0]])\n",
    "        \n",
    "        # Exclude the current element from the combination and recurse\n",
    "        yield from generate_combinations(elements[1:], current_combination)\n",
    "\n",
    "# Example usage:\n",
    "elements_list = [1, 2, 3]\n",
    "all_combinations = list(generate_combinations(elements_list))\n",
    "\n",
    "# Print the result\n",
    "for combination in all_combinations:\n",
    "    print(combination)\n"
   ]
  },
  {
   "cell_type": "raw",
   "id": "5ebde511-ad36-4d6b-b9df-31e7d18b81c7",
   "metadata": {},
   "source": [
    "#1\n",
    "A function in Python is a block of code that is designed to perform a specific task. Functions are used to modularize code, which means that they break down large programs into smaller, more manageable pieces. This makes code easier to write, read, and understand. Functions can also be reused in different parts of a program, which can save time and effort."
   ]
  },
  {
   "cell_type": "raw",
   "id": "d5315777-e4b1-4a0d-b44c-520ffb692771",
   "metadata": {},
   "source": [
    "#2\n",
    "Defining a function in Python involves using the def keyword, followed by the function name, parentheses, and a colon. The body of the function is indented below the function header. A function can take zero or more arguments, which are specified within the parentheses. The function can also return a value using the return statement."
   ]
  },
  {
   "cell_type": "raw",
   "id": "27ec8497-4c07-4c12-9486-1498455230ad",
   "metadata": {},
   "source": [
    "#3\n",
    "A function definition is a blueprint for a function, providing the instructions for what the function should do. It's like a recipe for a dish, outlining the steps involved in creating that dish."
   ]
  },
  {
   "cell_type": "code",
   "execution_count": 2,
   "id": "c84fee77-e055-456c-a8f8-b6b1f88ba8e5",
   "metadata": {},
   "outputs": [
    {
     "name": "stdout",
     "output_type": "stream",
     "text": [
      "8\n"
     ]
    }
   ],
   "source": [
    "#4\n",
    "def sum(a, b):\n",
    "    \"\"\"Calculates the sum of two numbers.\"\"\"\n",
    "    result = a + b\n",
    "    return result\n",
    "\n",
    "# Function call\n",
    "sum_result = sum(5, 3)\n",
    "print(sum_result)\n"
   ]
  },
  {
   "cell_type": "raw",
   "id": "2439969e-aeb7-4d16-b77a-975fa321676c",
   "metadata": {},
   "source": [
    "#5\n",
    "A function signature is a concise representation of a function's identity, specifying its name, parameters, and return type."
   ]
  },
  {
   "cell_type": "code",
   "execution_count": 3,
   "id": "951d7538-913f-494c-8f09-6c146196e59d",
   "metadata": {},
   "outputs": [
    {
     "name": "stdout",
     "output_type": "stream",
     "text": [
      "15\n"
     ]
    }
   ],
   "source": [
    "#6\n",
    "def product(a, b):\n",
    "    \"\"\"Calculates the product of two numbers.\"\"\"\n",
    "    result = a * b\n",
    "    return result\n",
    "\n",
    "# Function call\n",
    "product_result = product(5, 3)\n",
    "print(product_result)\n",
    "\n"
   ]
  },
  {
   "cell_type": "raw",
   "id": "665bdca7-b1c0-431a-8117-a8a150ec0763",
   "metadata": {},
   "source": [
    "#1\n",
    "Formal parameters and actual arguments are two fundamental concepts in Python functions. They play a crucial role in defining and invoking functions within a program."
   ]
  },
  {
   "cell_type": "code",
   "execution_count": 4,
   "id": "d5d4cb92-20e6-4c51-b1c0-dc76e38e4559",
   "metadata": {},
   "outputs": [
    {
     "name": "stdout",
     "output_type": "stream",
     "text": [
      "Hello, Guest!\n",
      "Hello, Alice!\n"
     ]
    }
   ],
   "source": [
    "#2\n",
    "def greet(name=\"Guest\"):\n",
    "  \"\"\"Greets the given person.\"\"\"\n",
    "  message = \"Hello, \" + name + \"!\"\n",
    "  print(message)\n",
    "\n",
    "# Function call with default argument\n",
    "greet()\n",
    "\n",
    "# Function call with custom argument\n",
    "greet(\"Alice\")\n"
   ]
  },
  {
   "cell_type": "raw",
   "id": "3dff3334-06bc-4a7d-b71f-3a8fa582c645",
   "metadata": {},
   "source": [
    "#3\n",
    "Keyword arguments allow you to call a function by specifying the values for its arguments using their names. This makes the function call more explicit and easier to read, especially when dealing with functions that have multiple arguments.\n",
    "\n"
   ]
  },
  {
   "cell_type": "code",
   "execution_count": 5,
   "id": "69e690c8-b71f-4049-a7ed-fbaff2aab87e",
   "metadata": {},
   "outputs": [
    {
     "name": "stdout",
     "output_type": "stream",
     "text": [
      "15\n"
     ]
    }
   ],
   "source": [
    "#4\n",
    "def variable_sum(*numbers):\n",
    "    \"\"\"Calculates the sum of an arbitrary number of numbers.\"\"\"\n",
    "    total = 0\n",
    "    for number in numbers:\n",
    "        total += number\n",
    "    return total\n",
    "\n",
    "# Function call with multiple arguments\n",
    "sum_result = variable_sum(1, 2, 3, 4, 5)\n",
    "print(sum_result)  # Output: 15\n"
   ]
  },
  {
   "cell_type": "code",
   "execution_count": 9,
   "id": "9ad8d765-9954-4eed-a61a-4bf93ed9e908",
   "metadata": {},
   "outputs": [
    {
     "name": "stdout",
     "output_type": "stream",
     "text": [
      "name Alice\n",
      "age 30\n",
      "city New York\n",
      "1\n",
      "2\n",
      "3\n",
      "4\n",
      "5\n"
     ]
    }
   ],
   "source": [
    "#5\n",
    "def my_function(*args, **kwargs):\n",
    "    # Process positional arguments\n",
    "    for arg in args:\n",
    "        print(arg)\n",
    "\n",
    "    # Process keyword arguments\n",
    "    for key, value in kwargs.items():\n",
    "        print(key, value)\n",
    "my_function(name=\"Alice\", age=30, city=\"New York\")\n",
    "my_function(1, 2, 3, 4, 5)\n"
   ]
  },
  {
   "cell_type": "raw",
   "id": "c2f68b1a-41f1-47f5-9e0f-9c9cce6047e7",
   "metadata": {},
   "source": [
    "#1\n",
    "The return statement in Python functions plays a crucial role in controlling the flow of execution and returning data from a function call. It serves as an exit point for a function, allowing it to pass back a result to the calling code."
   ]
  },
  {
   "cell_type": "code",
   "execution_count": 10,
   "id": "ba46014f-ec54-4311-9971-b51c06abfc0e",
   "metadata": {},
   "outputs": [
    {
     "name": "stdout",
     "output_type": "stream",
     "text": [
      "1\n"
     ]
    }
   ],
   "source": [
    "#2\n",
    "counter = 0\n",
    "\n",
    "def increment_counter():\n",
    "  global counter\n",
    "  counter += 1\n",
    "\n",
    "increment_counter()\n",
    "print(counter)  # Output: 1\n"
   ]
  },
  {
   "cell_type": "code",
   "execution_count": 12,
   "id": "45de89db-3141-4d9a-afa0-3cf05819beb6",
   "metadata": {},
   "outputs": [
    {
     "name": "stdout",
     "output_type": "stream",
     "text": [
      "11\n"
     ]
    }
   ],
   "source": [
    "#3\n",
    "x = 10\n",
    "\n",
    "def my_function():\n",
    "  global x\n",
    "  x += 1\n",
    "  print(x)  # Output: 11\n",
    "\n",
    "my_function()\n"
   ]
  },
  {
   "cell_type": "code",
   "execution_count": 11,
   "id": "7f87242c-1620-43b8-97bd-a5660eda8203",
   "metadata": {},
   "outputs": [
    {
     "name": "stdout",
     "output_type": "stream",
     "text": [
      "120\n"
     ]
    }
   ],
   "source": [
    "#4\n",
    "def factorial(n):\n",
    "    \"\"\"Calculates the factorial of a number.\"\"\"\n",
    "    if n < 0:\n",
    "        raise ValueError(\"n must be non-negative\")\n",
    "    if n == 0:\n",
    "        return 1\n",
    "    else:\n",
    "        return n * factorial(n - 1)\n",
    "\n",
    "# Example usage\n",
    "result = factorial(5)\n",
    "print(result)\n"
   ]
  },
  {
   "cell_type": "code",
   "execution_count": 16,
   "id": "9f0bbfa7-c9aa-484a-ab5e-bb57653cfd41",
   "metadata": {},
   "outputs": [
    {
     "name": "stdout",
     "output_type": "stream",
     "text": [
      "Hello, Alice!\n"
     ]
    }
   ],
   "source": [
    "#5\n",
    "def greet(name):\n",
    "    print(\"Hello,\", name + \"!\")\n",
    "\n",
    "name = \"Alice\"\n",
    "greet(name=name)\n"
   ]
  },
  {
   "cell_type": "code",
   "execution_count": 15,
   "id": "52ebc820-df22-45c3-9352-1061c763e90f",
   "metadata": {},
   "outputs": [
    {
     "name": "stdout",
     "output_type": "stream",
     "text": [
      "8\n"
     ]
    }
   ],
   "source": [
    "#1\n",
    "add_numbers = lambda a, b: a + b\n",
    "result = add_numbers(5, 3)\n",
    "print(result)  # Output: 8\n"
   ]
  },
  {
   "cell_type": "code",
   "execution_count": 22,
   "id": "e3a57eda-d23f-474b-8134-fd438683733a",
   "metadata": {},
   "outputs": [
    {
     "name": "stdout",
     "output_type": "stream",
     "text": [
      "[('Bob', 25), ('Alice', 30), ('Charlie', 40)]\n"
     ]
    }
   ],
   "source": [
    "#2\n",
    "data = [(\"Alice\", 30), (\"Bob\", 25), (\"Charlie\", 40)]\n",
    "\n",
    "sorted_data = sorted(data, key=lambda x: x[1])\n",
    "print(sorted_data)\n"
   ]
  },
  {
   "cell_type": "raw",
   "id": "ba451488-f91c-4c92-af08-72d59482cdf5",
   "metadata": {},
   "source": [
    "#3\n",
    "Higher-order functions (HOFs) are a powerful concept in Python that allows functions to operate on other functions. They introduce a level of abstraction and flexibility by enabling functions to take other functions as arguments or return functions as results."
   ]
  },
  {
   "cell_type": "code",
   "execution_count": 23,
   "id": "fc0adee2-2ee7-4a0b-b0b1-0f801e54d044",
   "metadata": {},
   "outputs": [
    {
     "name": "stdout",
     "output_type": "stream",
     "text": [
      "[4, 16, 36, 64]\n"
     ]
    }
   ],
   "source": [
    "#4\n",
    "def apply_function(numbers, function):\n",
    "    transformed_numbers = []\n",
    "    for number in numbers:\n",
    "        transformed_number = function(number)\n",
    "        transformed_numbers.append(transformed_number)\n",
    "    return transformed_numbers\n",
    "numbers = [2, 4, 6, 8]\n",
    "squared_numbers = apply_function(numbers, lambda x: x * x)\n",
    "print(squared_numbers)  # Output: [4, 16, 36, 64]\n"
   ]
  },
  {
   "cell_type": "raw",
   "id": "eae69335-2781-41c0-9886-702821b21eb1",
   "metadata": {},
   "source": [
    "#1\n",
    "uilt-in functions are pre-defined functions that are readily available for use in Python. They provide essential functionalities and simplify common programming tasks, making Python more versatile and efficient."
   ]
  },
  {
   "cell_type": "code",
   "execution_count": 24,
   "id": "f915db21-6ff4-46ac-a509-e71dae69fa97",
   "metadata": {},
   "outputs": [
    {
     "name": "stdout",
     "output_type": "stream",
     "text": [
      "[4, 16, 36, 64]\n"
     ]
    }
   ],
   "source": [
    "#2\n",
    "def square(x):\n",
    "  return x * x\n",
    "\n",
    "numbers = [2, 4, 6, 8]\n",
    "\n",
    "squared_numbers = map(square, numbers)\n",
    "print(list(squared_numbers))  # Output: [4, 16, 36, 64]\n"
   ]
  },
  {
   "cell_type": "code",
   "execution_count": 27,
   "id": "bbde5036-3d38-46a6-8863-1935701bf752",
   "metadata": {},
   "outputs": [
    {
     "name": "stdout",
     "output_type": "stream",
     "text": [
      "[2, 4, 6]\n"
     ]
    }
   ],
   "source": [
    "#3\n",
    "def is_even(number):\n",
    "  return number % 2 == 0\n",
    "\n",
    "numbers = [1, 2, 3, 4, 5, 6]\n",
    "\n",
    "even_numbers = filter(is_even, numbers)\n",
    "print(list(even_numbers))  # Output: [2, 4, 6]\n"
   ]
  },
  {
   "cell_type": "code",
   "execution_count": 28,
   "id": "820f73a5-abd3-405c-b63e-e0aa222aa337",
   "metadata": {},
   "outputs": [
    {
     "name": "stdout",
     "output_type": "stream",
     "text": [
      "120\n"
     ]
    }
   ],
   "source": [
    "#4\n",
    "from functools import reduce\n",
    "\n",
    "numbers = [1, 2, 3, 4, 5]\n",
    "\n",
    "product = reduce(lambda x, y: x * y, numbers)\n",
    "print(product)  # Output: 120\n"
   ]
  },
  {
   "cell_type": "raw",
   "id": "f0021a24-5084-435e-927d-cf878a13d00d",
   "metadata": {},
   "source": [
    "#1\n",
    "Docstrings, or documentation strings, are an essential part of Python programming. They provide clear and concise documentation for functions, modules, classes, and other objects, making the code more readable, understandable, and maintainable for both the original developer and others who may need to interact with the code."
   ]
  },
  {
   "cell_type": "raw",
   "id": "e146a3e6-cd6c-4166-b943-d706a172c4fc",
   "metadata": {},
   "source": [
    "#2\n",
    "\n",
    "Naming functions and variables in Python is crucial for writing clear, readable, and maintainable code. Consistent and descriptive naming conventions enhance code comprehension and reduce the cognitive load on programmers, making it easier to understand, modify, and debug the code."
   ]
  }
 ],
 "metadata": {
  "kernelspec": {
   "display_name": "Python 3 (ipykernel)",
   "language": "python",
   "name": "python3"
  },
  "language_info": {
   "codemirror_mode": {
    "name": "ipython",
    "version": 3
   },
   "file_extension": ".py",
   "mimetype": "text/x-python",
   "name": "python",
   "nbconvert_exporter": "python",
   "pygments_lexer": "ipython3",
   "version": "3.10.8"
  }
 },
 "nbformat": 4,
 "nbformat_minor": 5
}
